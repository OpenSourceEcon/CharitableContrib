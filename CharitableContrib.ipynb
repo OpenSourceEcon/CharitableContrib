{
 "cells": [
  {
   "cell_type": "code",
   "execution_count": null,
   "metadata": {},
   "outputs": [],
   "source": [
    "import os\n",
    "import numpy as np\n",
    "import pandas as pd"
   ]
  },
  {
   "cell_type": "code",
   "execution_count": null,
   "metadata": {},
   "outputs": [],
   "source": [
    "# Create a Pandas DataFrame of percent of filers who take the standard\n",
    "# deduction.\n",
    "# 2022:\n",
    "# 2021: https://www.irs.gov/pub/irs-pdf/p1304.pdf\n",
    "# 2020: https://www.irs.gov/pub/irs-soi/soi-a-inpr-id2201.pdf\n",
    "# 2019: https://www.irs.gov/pub/irs-prior/p1304--2021.pdf\n",
    "# 2018: https://www.irs.gov/pub/irs-prior/p1304--2020.pdf\n",
    "# 2017: https://www.irs.gov/pub/irs-soi/17inintaxreturns.pdf\n",
    "# 2016: https://www.irs.gov/pub/irs-soi/16inintaxreturns.pdf\n",
    "# 2015: https://www.irs.gov/pub/irs-soi/15inintaxreturns.pdf\n",
    "pct_std_deduct = pd.DataFrame({\n",
    "    'year': [2022, 2021, 2020, 2019, 2018, 2017, 2016, 2015],\n",
    "    'pct_std_deduct': [88.6, 88.2, 87.5, 88.9, 87.3, 68.0, 68.6, 69.0],\n",
    "    'std_deduct_joint': [25300, 25400, 25400, 25300, 24400],\n",
    "    'std_deduct_single': [12650, 12700, 12700, 12650, 12200]\n",
    "})"
   ]
  },
  {
   "cell_type": "code",
   "execution_count": null,
   "metadata": {},
   "outputs": [],
   "source": [
    "# Read in data\n",
    "data_dir = (\n",
    "    \"/Users/richardevans/Docs/Economics/OSE/Federal/CharitableContrib/data\"\n",
    ")\n",
    "item_by_agi_dir = os.path.join(data_dir, \"IRS_SOI/item_by_agi\")\n",
    "item_agi_22_df = pd.read_excel(\n",
    "    os.path.join(item_by_agi_dir, \"22in21id.xls\"),\n",
    "    sheet_name=\"TBL21\",\n",
    "    names=[\"num_returns\", \"total_agi_less_def\", \"total_itemized_ded\"],\n",
    "    usecols=\"B,C,BT\"\n",
    ")"
   ]
  }
 ],
 "metadata": {
  "kernelspec": {
   "display_name": "ccc-dev",
   "language": "python",
   "name": "python3"
  },
  "language_info": {
   "name": "python",
   "version": "3.11.4"
  }
 },
 "nbformat": 4,
 "nbformat_minor": 2
}
