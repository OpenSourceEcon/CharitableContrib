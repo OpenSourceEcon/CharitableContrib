{
 "cells": [
  {
   "cell_type": "code",
   "execution_count": 1,
   "metadata": {},
   "outputs": [],
   "source": [
    "import os\n",
    "import numpy as np\n",
    "import pandas as pd\n",
    "import matplotlib.pyplot as plt\n",
    "import taxcalc as tc\n",
    "from taxbrain import (\n",
    "    TaxBrain, differences_plot, distribution_plot, volcano_plot\n",
    ")\n",
    "from bokeh.io import output_notebook, show"
   ]
  },
  {
   "cell_type": "code",
   "execution_count": 2,
   "metadata": {},
   "outputs": [
    {
     "data": {
      "text/html": [
       "    <style>\n",
       "        .bk-notebook-logo {\n",
       "            display: block;\n",
       "            width: 20px;\n",
       "            height: 20px;\n",
       "            background-image: url(data:image/png;base64,iVBORw0KGgoAAAANSUhEUgAAABQAAAAUCAYAAACNiR0NAAAABHNCSVQICAgIfAhkiAAAAAlwSFlzAAALEgAACxIB0t1+/AAAABx0RVh0U29mdHdhcmUAQWRvYmUgRmlyZXdvcmtzIENTNui8sowAAAOkSURBVDiNjZRtaJVlGMd/1/08zzln5zjP1LWcU9N0NkN8m2CYjpgQYQXqSs0I84OLIC0hkEKoPtiH3gmKoiJDU7QpLgoLjLIQCpEsNJ1vqUOdO7ppbuec5+V+rj4ctwzd8IIbbi6u+8f1539dt3A78eXC7QizUF7gyV1fD1Yqg4JWz84yffhm0qkFqBogB9rM8tZdtwVsPUhWhGcFJngGeWrPzHm5oaMmkfEg1usvLFyc8jLRqDOMru7AyC8saQr7GG7f5fvDeH7Ej8CM66nIF+8yngt6HWaKh7k49Soy9nXurCi1o3qUbS3zWfrYeQDTB/Qj6kX6Ybhw4B+bOYoLKCC9H3Nu/leUTZ1JdRWkkn2ldcCamzrcf47KKXdAJllSlxAOkRgyHsGC/zRday5Qld9DyoM4/q/rUoy/CXh3jzOu3bHUVZeU+DEn8FInkPBFlu3+nW3Nw0mk6vCDiWg8CeJaxEwuHS3+z5RgY+YBR6V1Z1nxSOfoaPa4LASWxxdNp+VWTk7+4vzaou8v8PN+xo+KY2xsw6une2frhw05CTYOmQvsEhjhWjn0bmXPjpE1+kplmmkP3suftwTubK9Vq22qKmrBhpY4jvd5afdRA3wGjFAgcnTK2s4hY0/GPNIb0nErGMCRxWOOX64Z8RAC4oCXdklmEvcL8o0BfkNK4lUg9HTl+oPlQxdNo3Mg4Nv175e/1LDGzZen30MEjRUtmXSfiTVu1kK8W4txyV6BMKlbgk3lMwYCiusNy9fVfvvwMxv8Ynl6vxoByANLTWplvuj/nF9m2+PDtt1eiHPBr1oIfhCChQMBw6Aw0UulqTKZdfVvfG7VcfIqLG9bcldL/+pdWTLxLUy8Qq38heUIjh4XlzZxzQm19lLFlr8vdQ97rjZVOLf8nclzckbcD4wxXMidpX30sFd37Fv/GtwwhzhxGVAprjbg0gCAEeIgwCZyTV2Z1REEW8O4py0wsjeloKoMr6iCY6dP92H6Vw/oTyICIthibxjm/DfN9lVz8IqtqKYLUXfoKVMVQVVJOElGjrnnUt9T9wbgp8AyYKaGlqingHZU/uG2NTZSVqwHQTWkx9hxjkpWDaCg6Ckj5qebgBVbT3V3NNXMSiWSDdGV3hrtzla7J+duwPOToIg42ChPQOQjspnSlp1V+Gjdged7+8UN5CRAV7a5EdFNwCjEaBR27b3W890TE7g24NAP/mMDXRWrGoFPQI9ls/MWO2dWFAar/xcOIImbbpA3zgAAAABJRU5ErkJggg==);\n",
       "        }\n",
       "    </style>\n",
       "    <div>\n",
       "        <a href=\"https://bokeh.org\" target=\"_blank\" class=\"bk-notebook-logo\"></a>\n",
       "        <span id=\"ab32b47c-50e0-43f7-bd2b-4d825603222a\">Loading BokehJS ...</span>\n",
       "    </div>\n"
      ]
     },
     "metadata": {},
     "output_type": "display_data"
    },
    {
     "data": {
      "application/javascript": "'use strict';\n(function(root) {\n  function now() {\n    return new Date();\n  }\n\n  const force = true;\n\n  if (typeof root._bokeh_onload_callbacks === \"undefined\" || force === true) {\n    root._bokeh_onload_callbacks = [];\n    root._bokeh_is_loading = undefined;\n  }\n\nconst JS_MIME_TYPE = 'application/javascript';\n  const HTML_MIME_TYPE = 'text/html';\n  const EXEC_MIME_TYPE = 'application/vnd.bokehjs_exec.v0+json';\n  const CLASS_NAME = 'output_bokeh rendered_html';\n\n  /**\n   * Render data to the DOM node\n   */\n  function render(props, node) {\n    const script = document.createElement(\"script\");\n    node.appendChild(script);\n  }\n\n  /**\n   * Handle when an output is cleared or removed\n   */\n  function handleClearOutput(event, handle) {\n    function drop(id) {\n      const view = Bokeh.index.get_by_id(id)\n      if (view != null) {\n        view.model.document.clear()\n        Bokeh.index.delete(view)\n      }\n    }\n\n    const cell = handle.cell;\n\n    const id = cell.output_area._bokeh_element_id;\n    const server_id = cell.output_area._bokeh_server_id;\n\n    // Clean up Bokeh references\n    if (id != null) {\n      drop(id)\n    }\n\n    if (server_id !== undefined) {\n      // Clean up Bokeh references\n      const cmd_clean = \"from bokeh.io.state import curstate; print(curstate().uuid_to_server['\" + server_id + \"'].get_sessions()[0].document.roots[0]._id)\";\n      cell.notebook.kernel.execute(cmd_clean, {\n        iopub: {\n          output: function(msg) {\n            const id = msg.content.text.trim()\n            drop(id)\n          }\n        }\n      });\n      // Destroy server and session\n      const cmd_destroy = \"import bokeh.io.notebook as ion; ion.destroy_server('\" + server_id + \"')\";\n      cell.notebook.kernel.execute(cmd_destroy);\n    }\n  }\n\n  /**\n   * Handle when a new output is added\n   */\n  function handleAddOutput(event, handle) {\n    const output_area = handle.output_area;\n    const output = handle.output;\n\n    // limit handleAddOutput to display_data with EXEC_MIME_TYPE content only\n    if ((output.output_type != \"display_data\") || (!Object.prototype.hasOwnProperty.call(output.data, EXEC_MIME_TYPE))) {\n      return\n    }\n\n    const toinsert = output_area.element.find(\".\" + CLASS_NAME.split(' ')[0]);\n\n    if (output.metadata[EXEC_MIME_TYPE][\"id\"] !== undefined) {\n      toinsert[toinsert.length - 1].firstChild.textContent = output.data[JS_MIME_TYPE];\n      // store reference to embed id on output_area\n      output_area._bokeh_element_id = output.metadata[EXEC_MIME_TYPE][\"id\"];\n    }\n    if (output.metadata[EXEC_MIME_TYPE][\"server_id\"] !== undefined) {\n      const bk_div = document.createElement(\"div\");\n      bk_div.innerHTML = output.data[HTML_MIME_TYPE];\n      const script_attrs = bk_div.children[0].attributes;\n      for (let i = 0; i < script_attrs.length; i++) {\n        toinsert[toinsert.length - 1].firstChild.setAttribute(script_attrs[i].name, script_attrs[i].value);\n        toinsert[toinsert.length - 1].firstChild.textContent = bk_div.children[0].textContent\n      }\n      // store reference to server id on output_area\n      output_area._bokeh_server_id = output.metadata[EXEC_MIME_TYPE][\"server_id\"];\n    }\n  }\n\n  function register_renderer(events, OutputArea) {\n\n    function append_mime(data, metadata, element) {\n      // create a DOM node to render to\n      const toinsert = this.create_output_subarea(\n        metadata,\n        CLASS_NAME,\n        EXEC_MIME_TYPE\n      );\n      this.keyboard_manager.register_events(toinsert);\n      // Render to node\n      const props = {data: data, metadata: metadata[EXEC_MIME_TYPE]};\n      render(props, toinsert[toinsert.length - 1]);\n      element.append(toinsert);\n      return toinsert\n    }\n\n    /* Handle when an output is cleared or removed */\n    events.on('clear_output.CodeCell', handleClearOutput);\n    events.on('delete.Cell', handleClearOutput);\n\n    /* Handle when a new output is added */\n    events.on('output_added.OutputArea', handleAddOutput);\n\n    /**\n     * Register the mime type and append_mime function with output_area\n     */\n    OutputArea.prototype.register_mime_type(EXEC_MIME_TYPE, append_mime, {\n      /* Is output safe? */\n      safe: true,\n      /* Index of renderer in `output_area.display_order` */\n      index: 0\n    });\n  }\n\n  // register the mime type if in Jupyter Notebook environment and previously unregistered\n  if (root.Jupyter !== undefined) {\n    const events = require('base/js/events');\n    const OutputArea = require('notebook/js/outputarea').OutputArea;\n\n    if (OutputArea.prototype.mime_types().indexOf(EXEC_MIME_TYPE) == -1) {\n      register_renderer(events, OutputArea);\n    }\n  }\n  if (typeof (root._bokeh_timeout) === \"undefined\" || force === true) {\n    root._bokeh_timeout = Date.now() + 5000;\n    root._bokeh_failed_load = false;\n  }\n\n  const NB_LOAD_WARNING = {'data': {'text/html':\n     \"<div style='background-color: #fdd'>\\n\"+\n     \"<p>\\n\"+\n     \"BokehJS does not appear to have successfully loaded. If loading BokehJS from CDN, this \\n\"+\n     \"may be due to a slow or bad network connection. Possible fixes:\\n\"+\n     \"</p>\\n\"+\n     \"<ul>\\n\"+\n     \"<li>re-rerun `output_notebook()` to attempt to load from CDN again, or</li>\\n\"+\n     \"<li>use INLINE resources instead, as so:</li>\\n\"+\n     \"</ul>\\n\"+\n     \"<code>\\n\"+\n     \"from bokeh.resources import INLINE\\n\"+\n     \"output_notebook(resources=INLINE)\\n\"+\n     \"</code>\\n\"+\n     \"</div>\"}};\n\n  function display_loaded(error = null) {\n    const el = document.getElementById(\"ab32b47c-50e0-43f7-bd2b-4d825603222a\");\n    if (el != null) {\n      const html = (() => {\n        if (typeof root.Bokeh === \"undefined\") {\n          if (error == null) {\n            return \"BokehJS is loading ...\";\n          } else {\n            return \"BokehJS failed to load.\";\n          }\n        } else {\n          const prefix = `BokehJS ${root.Bokeh.version}`;\n          if (error == null) {\n            return `${prefix} successfully loaded.`;\n          } else {\n            return `${prefix} <b>encountered errors</b> while loading and may not function as expected.`;\n          }\n        }\n      })();\n      el.innerHTML = html;\n\n      if (error != null) {\n        const wrapper = document.createElement(\"div\");\n        wrapper.style.overflow = \"auto\";\n        wrapper.style.height = \"5em\";\n        wrapper.style.resize = \"vertical\";\n        const content = document.createElement(\"div\");\n        content.style.fontFamily = \"monospace\";\n        content.style.whiteSpace = \"pre-wrap\";\n        content.style.backgroundColor = \"rgb(255, 221, 221)\";\n        content.textContent = error.stack ?? error.toString();\n        wrapper.append(content);\n        el.append(wrapper);\n      }\n    } else if (Date.now() < root._bokeh_timeout) {\n      setTimeout(() => display_loaded(error), 100);\n    }\n  }\n\n  function run_callbacks() {\n    try {\n      root._bokeh_onload_callbacks.forEach(function(callback) {\n        if (callback != null)\n          callback();\n      });\n    } finally {\n      delete root._bokeh_onload_callbacks\n    }\n    console.debug(\"Bokeh: all callbacks have finished\");\n  }\n\n  function load_libs(css_urls, js_urls, callback) {\n    if (css_urls == null) css_urls = [];\n    if (js_urls == null) js_urls = [];\n\n    root._bokeh_onload_callbacks.push(callback);\n    if (root._bokeh_is_loading > 0) {\n      console.debug(\"Bokeh: BokehJS is being loaded, scheduling callback at\", now());\n      return null;\n    }\n    if (js_urls == null || js_urls.length === 0) {\n      run_callbacks();\n      return null;\n    }\n    console.debug(\"Bokeh: BokehJS not loaded, scheduling load and callback at\", now());\n    root._bokeh_is_loading = css_urls.length + js_urls.length;\n\n    function on_load() {\n      root._bokeh_is_loading--;\n      if (root._bokeh_is_loading === 0) {\n        console.debug(\"Bokeh: all BokehJS libraries/stylesheets loaded\");\n        run_callbacks()\n      }\n    }\n\n    function on_error(url) {\n      console.error(\"failed to load \" + url);\n    }\n\n    for (let i = 0; i < css_urls.length; i++) {\n      const url = css_urls[i];\n      const element = document.createElement(\"link\");\n      element.onload = on_load;\n      element.onerror = on_error.bind(null, url);\n      element.rel = \"stylesheet\";\n      element.type = \"text/css\";\n      element.href = url;\n      console.debug(\"Bokeh: injecting link tag for BokehJS stylesheet: \", url);\n      document.body.appendChild(element);\n    }\n\n    for (let i = 0; i < js_urls.length; i++) {\n      const url = js_urls[i];\n      const element = document.createElement('script');\n      element.onload = on_load;\n      element.onerror = on_error.bind(null, url);\n      element.async = false;\n      element.src = url;\n      console.debug(\"Bokeh: injecting script tag for BokehJS library: \", url);\n      document.head.appendChild(element);\n    }\n  };\n\n  function inject_raw_css(css) {\n    const element = document.createElement(\"style\");\n    element.appendChild(document.createTextNode(css));\n    document.body.appendChild(element);\n  }\n\n  const js_urls = [\"https://cdn.bokeh.org/bokeh/release/bokeh-3.7.3.min.js\", \"https://cdn.bokeh.org/bokeh/release/bokeh-gl-3.7.3.min.js\", \"https://cdn.bokeh.org/bokeh/release/bokeh-widgets-3.7.3.min.js\", \"https://cdn.bokeh.org/bokeh/release/bokeh-tables-3.7.3.min.js\", \"https://cdn.bokeh.org/bokeh/release/bokeh-mathjax-3.7.3.min.js\"];\n  const css_urls = [];\n\n  const inline_js = [    function(Bokeh) {\n      Bokeh.set_log_level(\"info\");\n    },\nfunction(Bokeh) {\n    }\n  ];\n\n  function run_inline_js() {\n    if (root.Bokeh !== undefined || force === true) {\n      try {\n            for (let i = 0; i < inline_js.length; i++) {\n      inline_js[i].call(root, root.Bokeh);\n    }\n\n      } catch (error) {display_loaded(error);throw error;\n      }if (force === true) {\n        display_loaded();\n      }} else if (Date.now() < root._bokeh_timeout) {\n      setTimeout(run_inline_js, 100);\n    } else if (!root._bokeh_failed_load) {\n      console.log(\"Bokeh: BokehJS failed to load within specified timeout.\");\n      root._bokeh_failed_load = true;\n    } else if (force !== true) {\n      const cell = $(document.getElementById(\"ab32b47c-50e0-43f7-bd2b-4d825603222a\")).parents('.cell').data().cell;\n      cell.output_area.append_execute_result(NB_LOAD_WARNING)\n    }\n  }\n\n  if (root._bokeh_is_loading === 0) {\n    console.debug(\"Bokeh: BokehJS loaded, going straight to plotting\");\n    run_inline_js();\n  } else {\n    load_libs(css_urls, js_urls, function() {\n      console.debug(\"Bokeh: BokehJS plotting callback run at\", now());\n      run_inline_js();\n    });\n  }\n}(window));",
      "application/vnd.bokehjs_load.v0+json": ""
     },
     "metadata": {},
     "output_type": "display_data"
    }
   ],
   "source": [
    "output_notebook()\n",
    "pd.options.display.float_format = '{:,.3f}'.format"
   ]
  },
  {
   "cell_type": "code",
   "execution_count": 12,
   "metadata": {},
   "outputs": [],
   "source": [
    "# Set paths to work across Mac/Windows/Linux platforms\n",
    "# Update cur_path to the path of the repsitory on your local machine\n",
    "cur_path = \"/Users/richardevans/Docs/Economics/OSE/Federal/CharitableContrib\"\n",
    "data_dir = os.path.join(cur_path, 'data')\n",
    "images_dir = os.path.join(cur_path, 'images')\n",
    "# Directories to save data\n",
    "json_dir = os.path.join(cur_path, \"json\")\n",
    "tmd_dir = (\n",
    "    \"/Users/richardevans/Docs/Economics/OSE/microsim/\" +\n",
    "    \"tax-microdata-benchmarking/tmd/storage/output\"\n",
    ")"
   ]
  },
  {
   "cell_type": "markdown",
   "metadata": {},
   "source": [
    "## 1. Run Tax-Calculator analysis for first analysis (Mar. 2025)"
   ]
  },
  {
   "cell_type": "markdown",
   "metadata": {},
   "source": [
    "### 1.1. Setup baseline calculator"
   ]
  },
  {
   "cell_type": "code",
   "execution_count": 13,
   "metadata": {},
   "outputs": [
    {
     "name": "stdout",
     "output_type": "stream",
     "text": [
      "taxcalc TMD start year is: 2021\n"
     ]
    }
   ],
   "source": [
    "# Set up the baseline calculator\n",
    "base_pol = tc.policy.Policy()\n",
    "base_pol_dict = base_pol.read_json_reform(os.path.join(json_dir, \"ext.json\"))\n",
    "base_pol.implement_reform(base_pol_dict)\n",
    "gfactors=tc.growfactors.GrowFactors(\n",
    "    growfactors_filename=os.path.join(tmd_dir, \"tmd_growfactors_jason.csv\")\n",
    ")\n",
    "# rec = tc.records.Records.cps_constructor()\n",
    "rec = tc.records.Records(\n",
    "    data=os.path.join(tmd_dir, \"tmd_jason.csv.gz\"),\n",
    "    start_year=tc.records.Records.TMDCSV_YEAR,\n",
    "    gfactors=gfactors,\n",
    "    weights=os.path.join(tmd_dir, \"tmd_weights_jason.csv.gz\"),\n",
    "    adjust_ratios=None,\n",
    ")\n",
    "tc_base = tc.calculator.Calculator(policy=base_pol, records=rec)\n",
    "print(\"taxcalc TMD start year is:\", tc.records.Records.TMDCSV_YEAR)\n"
   ]
  },
  {
   "cell_type": "markdown",
   "metadata": {},
   "source": [
    "### 1.2. Setup two reforms"
   ]
  },
  {
   "cell_type": "markdown",
   "metadata": {},
   "source": [
    "#### 1.2.1. Setup reform for permanent $500/$1000 extra deduction (Table 2)"
   ]
  },
  {
   "cell_type": "code",
   "execution_count": 14,
   "metadata": {},
   "outputs": [],
   "source": [
    "# Create reform 1 calculator\n",
    "ref1_pol = tc.policy.Policy()\n",
    "ref1_pol.implement_reform(base_pol_dict)\n",
    "ref1_pol_dict = base_pol.read_json_reform(\n",
    "    os.path.join(json_dir, \"chddct.json\")\n",
    ")\n",
    "ref1_pol.implement_reform(ref1_pol_dict)\n",
    "tc_ref1 = tc.calculator.Calculator(policy=ref1_pol, records=rec)"
   ]
  },
  {
   "cell_type": "code",
   "execution_count": 15,
   "metadata": {},
   "outputs": [],
   "source": [
    "# Compute annual revenue for each year in a 10-year budget window\n",
    "# Do this for baseline and reforms\n",
    "start_year = 2025\n",
    "end_year = 2034\n",
    "\n",
    "rev_base = {'IIT': {}, 'Payroll': {}, 'Sum': {}}\n",
    "rev_ref1 = {'IIT': {}, 'Payroll': {}, 'Sum': {}}\n",
    "for t in range(start_year, end_year+1):\n",
    "    tc_base.advance_to_year(t)\n",
    "    tc_base.calc_all()\n",
    "    rev_base['IIT'][t] = tc_base.weighted_total('iitax')\n",
    "    rev_base['Payroll'][t] = tc_base.weighted_total('payrolltax')\n",
    "    rev_base['Sum'][t] = rev_base['IIT'][t] + rev_base['Payroll'][t]\n",
    "    tc_ref1.advance_to_year(t)\n",
    "    tc_ref1.calc_all()\n",
    "    rev_ref1['IIT'][t] = tc_ref1.weighted_total('iitax')\n",
    "    rev_ref1['Payroll'][t] = tc_ref1.weighted_total('payrolltax')\n",
    "    rev_ref1['Sum'][t] = rev_ref1['IIT'][t] + rev_ref1['Payroll'][t]"
   ]
  },
  {
   "cell_type": "code",
   "execution_count": 9,
   "metadata": {},
   "outputs": [
    {
     "name": "stdout",
     "output_type": "stream",
     "text": [
      "Charitable Act revenue estimates\n",
      "             2025      2026      2027      2028      2029      2030      2031  \\\n",
      "IIT     $2580.483 $2696.659 $2810.901 $2931.118 $3062.111 $3199.674 $3343.232   \n",
      "Payroll $1706.931 $1786.081 $1860.098 $1931.440 $2005.894 $2082.489 $2160.684   \n",
      "Sum     $4287.415 $4482.740 $4671.000 $4862.558 $5068.006 $5282.163 $5503.916   \n",
      "\n",
      "             2032      2033      2034  2025-2034  \n",
      "IIT     $3492.739 $3645.032 $3801.232 $31563.182  \n",
      "Payroll $2240.097 $2320.756 $2402.642 $20497.113  \n",
      "Sum     $5732.836 $5965.789 $6203.873 $52060.295  \n",
      "             2025      2026      2027      2028      2029      2030      2031  \\\n",
      "IIT     $2577.064 $2693.181 $2807.377 $2927.557 $3058.511 $3196.035 $3339.554   \n",
      "Payroll $1706.931 $1786.081 $1860.098 $1931.440 $2005.894 $2082.489 $2160.684   \n",
      "Sum     $4283.995 $4479.262 $4667.476 $4858.997 $5064.405 $5278.524 $5500.238   \n",
      "\n",
      "             2032      2033      2034  \n",
      "IIT     $3489.026 $3641.283 $3797.449  \n",
      "Payroll $2240.097 $2320.756 $2402.642  \n",
      "Sum     $5729.123 $5962.039 $6200.091  \n",
      "|         |     2025 |     2026 |     2027 |     2028 |     2029 |     2030 |     2031 |    2032 |     2033 |     2034 |   2025-2034 |\n",
      "|:--------|---------:|---------:|---------:|---------:|---------:|---------:|---------:|--------:|---------:|---------:|------------:|\n",
      "| IIT     | -3.41974 | -3.47751 | -3.52406 | -3.56113 | -3.60049 | -3.63863 | -3.67835 | -3.7135 | -3.74957 | -3.78282 |    -36.1458 |\n",
      "| Payroll |  0       |  0       |  0       |  0       |  0       |  0       |  0       |  0      |  0       |  0       |      0      |\n",
      "| Sum     | -3.41974 | -3.47751 | -3.52406 | -3.56113 | -3.60049 | -3.63863 | -3.67835 | -3.7135 | -3.74957 | -3.78282 |    -36.1458 |\n"
     ]
    }
   ],
   "source": [
    "# make table of revenue estimates\n",
    "rev_base_df = pd.DataFrame.from_dict(rev_base).T\n",
    "rev_base_df['2025-2034'] = rev_base_df.sum(axis=1)\n",
    "rev_ref1_df = pd.DataFrame.from_dict(rev_ref1).T\n",
    "# rev_ref_df['2025-2034'] = rev_ref_df.sum(axis=1)\n",
    "diff1_df = (rev_ref1_df - rev_base_df) * 1e-9\n",
    "pd.options.display.float_format = '${:.3f}'.format\n",
    "diff1_df['2025-2034'] = diff1_df.sum(axis=1)\n",
    "print('Charitable Act revenue estimates')\n",
    "print(rev_base_df * 1e-9)\n",
    "print(rev_ref1_df * 1e-9)\n",
    "print(diff1_df.to_markdown())"
   ]
  },
  {
   "cell_type": "code",
   "execution_count": 22,
   "metadata": {},
   "outputs": [
    {
     "data": {
      "text/plain": [
       "IIT       $31527.036\n",
       "Payroll   $20497.113\n",
       "Sum       $52024.149\n",
       "dtype: float64"
      ]
     },
     "execution_count": 22,
     "metadata": {},
     "output_type": "execute_result"
    }
   ],
   "source": [
    "rev_ref1_df.sum(axis=1) * 1e-9"
   ]
  },
  {
   "cell_type": "markdown",
   "metadata": {},
   "source": [
    "#### 1.2.2. Setup reform for Charitable Act $10,000/$5,000 for 2026 and 2027 (Table 1)"
   ]
  },
  {
   "cell_type": "code",
   "execution_count": 18,
   "metadata": {},
   "outputs": [],
   "source": [
    "# Create reform 2 calculator\n",
    "ref2_pol = tc.policy.Policy()\n",
    "ref2_pol.implement_reform(base_pol_dict)\n",
    "ref2_pol_dict = base_pol.read_json_reform(\n",
    "    os.path.join(json_dir, \"chddct2.json\")\n",
    ")\n",
    "ref2_pol.implement_reform(ref2_pol_dict)\n",
    "tc_ref2 = tc.calculator.Calculator(policy=ref2_pol, records=rec)"
   ]
  },
  {
   "cell_type": "code",
   "execution_count": 19,
   "metadata": {},
   "outputs": [],
   "source": [
    "# Compute annual revenue for each year in a 10-year budget window\n",
    "# Do this for baseline and reforms\n",
    "rev_ref2 = {'IIT': {}, 'Payroll': {}, 'Sum': {}}\n",
    "for t in range(start_year, end_year+1):\n",
    "    tc_ref2.advance_to_year(t)\n",
    "    tc_ref2.calc_all()\n",
    "    rev_ref2['IIT'][t] = tc_ref2.weighted_total('iitax')\n",
    "    rev_ref2['Payroll'][t] = tc_ref2.weighted_total('payrolltax')\n",
    "    rev_ref2['Sum'][t] = rev_ref2['IIT'][t] + rev_ref2['Payroll'][t]"
   ]
  },
  {
   "cell_type": "code",
   "execution_count": 20,
   "metadata": {},
   "outputs": [
    {
     "name": "stdout",
     "output_type": "stream",
     "text": [
      "Charitable Act revenue estimates\n",
      "             2025      2026      2027      2028      2029      2030      2031  \\\n",
      "IIT     $2580.483 $2696.659 $2810.901 $2931.118 $3062.111 $3199.674 $3343.232   \n",
      "Payroll $1706.931 $1786.081 $1860.098 $1931.440 $2005.894 $2082.489 $2160.684   \n",
      "Sum     $4287.415 $4482.740 $4671.000 $4862.558 $5068.006 $5282.163 $5503.916   \n",
      "\n",
      "             2032      2033      2034  2025-2034  \n",
      "IIT     $3492.739 $3645.032 $3801.232 $31563.182  \n",
      "Payroll $2240.097 $2320.756 $2402.642 $20497.113  \n",
      "Sum     $5732.836 $5965.789 $6203.873 $52060.295  \n",
      "             2025      2026      2027      2028      2029      2030      2031  \\\n",
      "IIT     $2580.483 $2680.868 $2794.657 $2931.118 $3062.111 $3199.674 $3343.232   \n",
      "Payroll $1706.931 $1786.081 $1860.098 $1931.440 $2005.894 $2082.489 $2160.684   \n",
      "Sum     $4287.415 $4466.950 $4654.755 $4862.558 $5068.006 $5282.163 $5503.916   \n",
      "\n",
      "             2032      2033      2034  \n",
      "IIT     $3492.739 $3645.032 $3801.232  \n",
      "Payroll $2240.097 $2320.756 $2402.642  \n",
      "Sum     $5732.836 $5965.789 $6203.873  \n",
      "|         |   2025 |     2026 |     2027 |   2028 |   2029 |   2030 |   2031 |   2032 |   2033 |   2034 |   2025-2034 |\n",
      "|:--------|-------:|---------:|---------:|-------:|-------:|-------:|-------:|-------:|-------:|-------:|------------:|\n",
      "| IIT     |      0 | -15.7902 | -16.2447 |      0 |      0 |      0 |      0 |      0 |      0 |      0 |    -32.0349 |\n",
      "| Payroll |      0 |   0      |   0      |      0 |      0 |      0 |      0 |      0 |      0 |      0 |      0      |\n",
      "| Sum     |      0 | -15.7902 | -16.2447 |      0 |      0 |      0 |      0 |      0 |      0 |      0 |    -32.0349 |\n"
     ]
    }
   ],
   "source": [
    "# make table of revenue estimates\n",
    "rev_ref2_df = pd.DataFrame.from_dict(rev_ref2).T\n",
    "# rev_ref_df['2025-2034'] = rev_ref_df.sum(axis=1)\n",
    "diff2_df = (rev_ref2_df - rev_base_df) * 1e-9\n",
    "pd.options.display.float_format = '${:.3f}'.format\n",
    "diff2_df['2025-2034'] = diff2_df.sum(axis=1)\n",
    "print('Charitable Act revenue estimates')\n",
    "print(rev_base_df * 1e-9)\n",
    "print(rev_ref2_df * 1e-9)\n",
    "print(diff2_df.to_markdown())"
   ]
  },
  {
   "cell_type": "code",
   "execution_count": 21,
   "metadata": {},
   "outputs": [
    {
     "data": {
      "text/plain": [
       "IIT       $31531.147\n",
       "Payroll   $20497.113\n",
       "Sum       $52028.260\n",
       "dtype: float64"
      ]
     },
     "execution_count": 21,
     "metadata": {},
     "output_type": "execute_result"
    }
   ],
   "source": [
    "rev_ref2_df.sum(axis=1) * 1e-9"
   ]
  },
  {
   "cell_type": "markdown",
   "metadata": {},
   "source": [
    "## 2. Run Tax-Calculator analysis for second analysis (June 2025)"
   ]
  },
  {
   "cell_type": "markdown",
   "metadata": {},
   "source": [
    "### 2.1. Run reform of $150/$300 extra deduction with a 0.5% AGI floor for itemized charitable deduction"
   ]
  },
  {
   "cell_type": "code",
   "execution_count": null,
   "metadata": {},
   "outputs": [],
   "source": []
  },
  {
   "cell_type": "markdown",
   "metadata": {},
   "source": [
    "### 2.2. Run reform of $150/$300 extra deduction with a 1.0% AGI floor for itemized charitable deduction"
   ]
  },
  {
   "cell_type": "code",
   "execution_count": null,
   "metadata": {},
   "outputs": [],
   "source": []
  },
  {
   "cell_type": "markdown",
   "metadata": {},
   "source": [
    "### 2.3. Run reform of $500/$1,000 extra deduction with a 0.5% AGI floor for itemized charitable deduction"
   ]
  },
  {
   "cell_type": "code",
   "execution_count": null,
   "metadata": {},
   "outputs": [],
   "source": []
  },
  {
   "cell_type": "markdown",
   "metadata": {},
   "source": [
    "### 2.4. Run reform of $500/$1,000 extra deduction with a 1.0% AGI floor for itemized charitable deduction"
   ]
  },
  {
   "cell_type": "code",
   "execution_count": null,
   "metadata": {},
   "outputs": [],
   "source": []
  },
  {
   "cell_type": "markdown",
   "metadata": {},
   "source": [
    "### 2.5. Run reform of $5,000/$10,000 extra deduction with a 0.5% AGI floor for itemized charitable deduction"
   ]
  },
  {
   "cell_type": "code",
   "execution_count": null,
   "metadata": {},
   "outputs": [],
   "source": []
  },
  {
   "cell_type": "markdown",
   "metadata": {},
   "source": [
    "### 2.6. Run reform of $5,000/$10,000 extra deduction with a 1.0% AGI floor for itemized charitable deduction"
   ]
  },
  {
   "cell_type": "code",
   "execution_count": null,
   "metadata": {},
   "outputs": [],
   "source": []
  }
 ],
 "metadata": {
  "kernelspec": {
   "display_name": "char-contr-dev2",
   "language": "python",
   "name": "python3"
  },
  "language_info": {
   "codemirror_mode": {
    "name": "ipython",
    "version": 3
   },
   "file_extension": ".py",
   "mimetype": "text/x-python",
   "name": "python",
   "nbconvert_exporter": "python",
   "pygments_lexer": "ipython3",
   "version": "3.12.11"
  }
 },
 "nbformat": 4,
 "nbformat_minor": 2
}
