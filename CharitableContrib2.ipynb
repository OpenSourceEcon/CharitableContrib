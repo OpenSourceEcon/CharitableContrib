{
 "cells": [
  {
   "cell_type": "code",
   "execution_count": 1,
   "metadata": {},
   "outputs": [],
   "source": [
    "import os\n",
    "import numpy as np\n",
    "import pandas as pd\n",
    "import matplotlib.pyplot as plt\n",
    "import taxcalc as tc\n",
    "from taxbrain import (\n",
    "    TaxBrain, differences_plot, distribution_plot, volcano_plot\n",
    ")\n",
    "from bokeh.io import output_notebook, show"
   ]
  },
  {
   "cell_type": "code",
   "execution_count": 2,
   "metadata": {},
   "outputs": [
    {
     "data": {
      "text/html": [
       "    <style>\n",
       "        .bk-notebook-logo {\n",
       "            display: block;\n",
       "            width: 20px;\n",
       "            height: 20px;\n",
       "            background-image: url(data:image/png;base64,iVBORw0KGgoAAAANSUhEUgAAABQAAAAUCAYAAACNiR0NAAAABHNCSVQICAgIfAhkiAAAAAlwSFlzAAALEgAACxIB0t1+/AAAABx0RVh0U29mdHdhcmUAQWRvYmUgRmlyZXdvcmtzIENTNui8sowAAAOkSURBVDiNjZRtaJVlGMd/1/08zzln5zjP1LWcU9N0NkN8m2CYjpgQYQXqSs0I84OLIC0hkEKoPtiH3gmKoiJDU7QpLgoLjLIQCpEsNJ1vqUOdO7ppbuec5+V+rj4ctwzd8IIbbi6u+8f1539dt3A78eXC7QizUF7gyV1fD1Yqg4JWz84yffhm0qkFqBogB9rM8tZdtwVsPUhWhGcFJngGeWrPzHm5oaMmkfEg1usvLFyc8jLRqDOMru7AyC8saQr7GG7f5fvDeH7Ej8CM66nIF+8yngt6HWaKh7k49Soy9nXurCi1o3qUbS3zWfrYeQDTB/Qj6kX6Ybhw4B+bOYoLKCC9H3Nu/leUTZ1JdRWkkn2ldcCamzrcf47KKXdAJllSlxAOkRgyHsGC/zRday5Qld9DyoM4/q/rUoy/CXh3jzOu3bHUVZeU+DEn8FInkPBFlu3+nW3Nw0mk6vCDiWg8CeJaxEwuHS3+z5RgY+YBR6V1Z1nxSOfoaPa4LASWxxdNp+VWTk7+4vzaou8v8PN+xo+KY2xsw6une2frhw05CTYOmQvsEhjhWjn0bmXPjpE1+kplmmkP3suftwTubK9Vq22qKmrBhpY4jvd5afdRA3wGjFAgcnTK2s4hY0/GPNIb0nErGMCRxWOOX64Z8RAC4oCXdklmEvcL8o0BfkNK4lUg9HTl+oPlQxdNo3Mg4Nv175e/1LDGzZen30MEjRUtmXSfiTVu1kK8W4txyV6BMKlbgk3lMwYCiusNy9fVfvvwMxv8Ynl6vxoByANLTWplvuj/nF9m2+PDtt1eiHPBr1oIfhCChQMBw6Aw0UulqTKZdfVvfG7VcfIqLG9bcldL/+pdWTLxLUy8Qq38heUIjh4XlzZxzQm19lLFlr8vdQ97rjZVOLf8nclzckbcD4wxXMidpX30sFd37Fv/GtwwhzhxGVAprjbg0gCAEeIgwCZyTV2Z1REEW8O4py0wsjeloKoMr6iCY6dP92H6Vw/oTyICIthibxjm/DfN9lVz8IqtqKYLUXfoKVMVQVVJOElGjrnnUt9T9wbgp8AyYKaGlqingHZU/uG2NTZSVqwHQTWkx9hxjkpWDaCg6Ckj5qebgBVbT3V3NNXMSiWSDdGV3hrtzla7J+duwPOToIg42ChPQOQjspnSlp1V+Gjdged7+8UN5CRAV7a5EdFNwCjEaBR27b3W890TE7g24NAP/mMDXRWrGoFPQI9ls/MWO2dWFAar/xcOIImbbpA3zgAAAABJRU5ErkJggg==);\n",
       "        }\n",
       "    </style>\n",
       "    <div>\n",
       "        <a href=\"https://bokeh.org\" target=\"_blank\" class=\"bk-notebook-logo\"></a>\n",
       "        <span id=\"baf5843d-9ae3-4636-aef1-536f9e2b5c32\">Loading BokehJS ...</span>\n",
       "    </div>\n"
      ]
     },
     "metadata": {},
     "output_type": "display_data"
    },
    {
     "data": {
      "application/javascript": "'use strict';\n(function(root) {\n  function now() {\n    return new Date();\n  }\n\n  const force = true;\n\n  if (typeof root._bokeh_onload_callbacks === \"undefined\" || force === true) {\n    root._bokeh_onload_callbacks = [];\n    root._bokeh_is_loading = undefined;\n  }\n\nconst JS_MIME_TYPE = 'application/javascript';\n  const HTML_MIME_TYPE = 'text/html';\n  const EXEC_MIME_TYPE = 'application/vnd.bokehjs_exec.v0+json';\n  const CLASS_NAME = 'output_bokeh rendered_html';\n\n  /**\n   * Render data to the DOM node\n   */\n  function render(props, node) {\n    const script = document.createElement(\"script\");\n    node.appendChild(script);\n  }\n\n  /**\n   * Handle when an output is cleared or removed\n   */\n  function handleClearOutput(event, handle) {\n    function drop(id) {\n      const view = Bokeh.index.get_by_id(id)\n      if (view != null) {\n        view.model.document.clear()\n        Bokeh.index.delete(view)\n      }\n    }\n\n    const cell = handle.cell;\n\n    const id = cell.output_area._bokeh_element_id;\n    const server_id = cell.output_area._bokeh_server_id;\n\n    // Clean up Bokeh references\n    if (id != null) {\n      drop(id)\n    }\n\n    if (server_id !== undefined) {\n      // Clean up Bokeh references\n      const cmd_clean = \"from bokeh.io.state import curstate; print(curstate().uuid_to_server['\" + server_id + \"'].get_sessions()[0].document.roots[0]._id)\";\n      cell.notebook.kernel.execute(cmd_clean, {\n        iopub: {\n          output: function(msg) {\n            const id = msg.content.text.trim()\n            drop(id)\n          }\n        }\n      });\n      // Destroy server and session\n      const cmd_destroy = \"import bokeh.io.notebook as ion; ion.destroy_server('\" + server_id + \"')\";\n      cell.notebook.kernel.execute(cmd_destroy);\n    }\n  }\n\n  /**\n   * Handle when a new output is added\n   */\n  function handleAddOutput(event, handle) {\n    const output_area = handle.output_area;\n    const output = handle.output;\n\n    // limit handleAddOutput to display_data with EXEC_MIME_TYPE content only\n    if ((output.output_type != \"display_data\") || (!Object.prototype.hasOwnProperty.call(output.data, EXEC_MIME_TYPE))) {\n      return\n    }\n\n    const toinsert = output_area.element.find(\".\" + CLASS_NAME.split(' ')[0]);\n\n    if (output.metadata[EXEC_MIME_TYPE][\"id\"] !== undefined) {\n      toinsert[toinsert.length - 1].firstChild.textContent = output.data[JS_MIME_TYPE];\n      // store reference to embed id on output_area\n      output_area._bokeh_element_id = output.metadata[EXEC_MIME_TYPE][\"id\"];\n    }\n    if (output.metadata[EXEC_MIME_TYPE][\"server_id\"] !== undefined) {\n      const bk_div = document.createElement(\"div\");\n      bk_div.innerHTML = output.data[HTML_MIME_TYPE];\n      const script_attrs = bk_div.children[0].attributes;\n      for (let i = 0; i < script_attrs.length; i++) {\n        toinsert[toinsert.length - 1].firstChild.setAttribute(script_attrs[i].name, script_attrs[i].value);\n        toinsert[toinsert.length - 1].firstChild.textContent = bk_div.children[0].textContent\n      }\n      // store reference to server id on output_area\n      output_area._bokeh_server_id = output.metadata[EXEC_MIME_TYPE][\"server_id\"];\n    }\n  }\n\n  function register_renderer(events, OutputArea) {\n\n    function append_mime(data, metadata, element) {\n      // create a DOM node to render to\n      const toinsert = this.create_output_subarea(\n        metadata,\n        CLASS_NAME,\n        EXEC_MIME_TYPE\n      );\n      this.keyboard_manager.register_events(toinsert);\n      // Render to node\n      const props = {data: data, metadata: metadata[EXEC_MIME_TYPE]};\n      render(props, toinsert[toinsert.length - 1]);\n      element.append(toinsert);\n      return toinsert\n    }\n\n    /* Handle when an output is cleared or removed */\n    events.on('clear_output.CodeCell', handleClearOutput);\n    events.on('delete.Cell', handleClearOutput);\n\n    /* Handle when a new output is added */\n    events.on('output_added.OutputArea', handleAddOutput);\n\n    /**\n     * Register the mime type and append_mime function with output_area\n     */\n    OutputArea.prototype.register_mime_type(EXEC_MIME_TYPE, append_mime, {\n      /* Is output safe? */\n      safe: true,\n      /* Index of renderer in `output_area.display_order` */\n      index: 0\n    });\n  }\n\n  // register the mime type if in Jupyter Notebook environment and previously unregistered\n  if (root.Jupyter !== undefined) {\n    const events = require('base/js/events');\n    const OutputArea = require('notebook/js/outputarea').OutputArea;\n\n    if (OutputArea.prototype.mime_types().indexOf(EXEC_MIME_TYPE) == -1) {\n      register_renderer(events, OutputArea);\n    }\n  }\n  if (typeof (root._bokeh_timeout) === \"undefined\" || force === true) {\n    root._bokeh_timeout = Date.now() + 5000;\n    root._bokeh_failed_load = false;\n  }\n\n  const NB_LOAD_WARNING = {'data': {'text/html':\n     \"<div style='background-color: #fdd'>\\n\"+\n     \"<p>\\n\"+\n     \"BokehJS does not appear to have successfully loaded. If loading BokehJS from CDN, this \\n\"+\n     \"may be due to a slow or bad network connection. Possible fixes:\\n\"+\n     \"</p>\\n\"+\n     \"<ul>\\n\"+\n     \"<li>re-rerun `output_notebook()` to attempt to load from CDN again, or</li>\\n\"+\n     \"<li>use INLINE resources instead, as so:</li>\\n\"+\n     \"</ul>\\n\"+\n     \"<code>\\n\"+\n     \"from bokeh.resources import INLINE\\n\"+\n     \"output_notebook(resources=INLINE)\\n\"+\n     \"</code>\\n\"+\n     \"</div>\"}};\n\n  function display_loaded(error = null) {\n    const el = document.getElementById(\"baf5843d-9ae3-4636-aef1-536f9e2b5c32\");\n    if (el != null) {\n      const html = (() => {\n        if (typeof root.Bokeh === \"undefined\") {\n          if (error == null) {\n            return \"BokehJS is loading ...\";\n          } else {\n            return \"BokehJS failed to load.\";\n          }\n        } else {\n          const prefix = `BokehJS ${root.Bokeh.version}`;\n          if (error == null) {\n            return `${prefix} successfully loaded.`;\n          } else {\n            return `${prefix} <b>encountered errors</b> while loading and may not function as expected.`;\n          }\n        }\n      })();\n      el.innerHTML = html;\n\n      if (error != null) {\n        const wrapper = document.createElement(\"div\");\n        wrapper.style.overflow = \"auto\";\n        wrapper.style.height = \"5em\";\n        wrapper.style.resize = \"vertical\";\n        const content = document.createElement(\"div\");\n        content.style.fontFamily = \"monospace\";\n        content.style.whiteSpace = \"pre-wrap\";\n        content.style.backgroundColor = \"rgb(255, 221, 221)\";\n        content.textContent = error.stack ?? error.toString();\n        wrapper.append(content);\n        el.append(wrapper);\n      }\n    } else if (Date.now() < root._bokeh_timeout) {\n      setTimeout(() => display_loaded(error), 100);\n    }\n  }\n\n  function run_callbacks() {\n    try {\n      root._bokeh_onload_callbacks.forEach(function(callback) {\n        if (callback != null)\n          callback();\n      });\n    } finally {\n      delete root._bokeh_onload_callbacks\n    }\n    console.debug(\"Bokeh: all callbacks have finished\");\n  }\n\n  function load_libs(css_urls, js_urls, callback) {\n    if (css_urls == null) css_urls = [];\n    if (js_urls == null) js_urls = [];\n\n    root._bokeh_onload_callbacks.push(callback);\n    if (root._bokeh_is_loading > 0) {\n      console.debug(\"Bokeh: BokehJS is being loaded, scheduling callback at\", now());\n      return null;\n    }\n    if (js_urls == null || js_urls.length === 0) {\n      run_callbacks();\n      return null;\n    }\n    console.debug(\"Bokeh: BokehJS not loaded, scheduling load and callback at\", now());\n    root._bokeh_is_loading = css_urls.length + js_urls.length;\n\n    function on_load() {\n      root._bokeh_is_loading--;\n      if (root._bokeh_is_loading === 0) {\n        console.debug(\"Bokeh: all BokehJS libraries/stylesheets loaded\");\n        run_callbacks()\n      }\n    }\n\n    function on_error(url) {\n      console.error(\"failed to load \" + url);\n    }\n\n    for (let i = 0; i < css_urls.length; i++) {\n      const url = css_urls[i];\n      const element = document.createElement(\"link\");\n      element.onload = on_load;\n      element.onerror = on_error.bind(null, url);\n      element.rel = \"stylesheet\";\n      element.type = \"text/css\";\n      element.href = url;\n      console.debug(\"Bokeh: injecting link tag for BokehJS stylesheet: \", url);\n      document.body.appendChild(element);\n    }\n\n    for (let i = 0; i < js_urls.length; i++) {\n      const url = js_urls[i];\n      const element = document.createElement('script');\n      element.onload = on_load;\n      element.onerror = on_error.bind(null, url);\n      element.async = false;\n      element.src = url;\n      console.debug(\"Bokeh: injecting script tag for BokehJS library: \", url);\n      document.head.appendChild(element);\n    }\n  };\n\n  function inject_raw_css(css) {\n    const element = document.createElement(\"style\");\n    element.appendChild(document.createTextNode(css));\n    document.body.appendChild(element);\n  }\n\n  const js_urls = [\"https://cdn.bokeh.org/bokeh/release/bokeh-3.6.3.min.js\", \"https://cdn.bokeh.org/bokeh/release/bokeh-gl-3.6.3.min.js\", \"https://cdn.bokeh.org/bokeh/release/bokeh-widgets-3.6.3.min.js\", \"https://cdn.bokeh.org/bokeh/release/bokeh-tables-3.6.3.min.js\", \"https://cdn.bokeh.org/bokeh/release/bokeh-mathjax-3.6.3.min.js\"];\n  const css_urls = [];\n\n  const inline_js = [    function(Bokeh) {\n      Bokeh.set_log_level(\"info\");\n    },\nfunction(Bokeh) {\n    }\n  ];\n\n  function run_inline_js() {\n    if (root.Bokeh !== undefined || force === true) {\n      try {\n            for (let i = 0; i < inline_js.length; i++) {\n      inline_js[i].call(root, root.Bokeh);\n    }\n\n      } catch (error) {display_loaded(error);throw error;\n      }if (force === true) {\n        display_loaded();\n      }} else if (Date.now() < root._bokeh_timeout) {\n      setTimeout(run_inline_js, 100);\n    } else if (!root._bokeh_failed_load) {\n      console.log(\"Bokeh: BokehJS failed to load within specified timeout.\");\n      root._bokeh_failed_load = true;\n    } else if (force !== true) {\n      const cell = $(document.getElementById(\"baf5843d-9ae3-4636-aef1-536f9e2b5c32\")).parents('.cell').data().cell;\n      cell.output_area.append_execute_result(NB_LOAD_WARNING)\n    }\n  }\n\n  if (root._bokeh_is_loading === 0) {\n    console.debug(\"Bokeh: BokehJS loaded, going straight to plotting\");\n    run_inline_js();\n  } else {\n    load_libs(css_urls, js_urls, function() {\n      console.debug(\"Bokeh: BokehJS plotting callback run at\", now());\n      run_inline_js();\n    });\n  }\n}(window));",
      "application/vnd.bokehjs_load.v0+json": ""
     },
     "metadata": {},
     "output_type": "display_data"
    }
   ],
   "source": [
    "output_notebook()\n",
    "pd.options.display.float_format = '{:,.3f}'.format"
   ]
  },
  {
   "cell_type": "code",
   "execution_count": 3,
   "metadata": {},
   "outputs": [],
   "source": [
    "# Set paths to work across Mac/Windows/Linux platforms\n",
    "# Update cur_path to the path of the repsitory on your local machine\n",
    "cur_path = \"/Users/richardevans/Docs/Economics/OSE/Federal/CharitableContrib\"\n",
    "data_dir = os.path.join(cur_path, 'data')\n",
    "images_dir = os.path.join(cur_path, 'images')\n",
    "# Directories to save data\n",
    "json_dir = os.path.join(cur_path, \"json\")\n",
    "base_dir = os.path.join(cur_path, \"OUTPUT_BASELINE\")\n",
    "reform_dir_chddct = os.path.join(cur_path, \"OUTPUT_REFORM_CHDDCT\")\n",
    "tmd_dir = (\n",
    "    \"/Users/richardevans/Docs/Economics/OSE/microsim/\" +\n",
    "    \"tax-microdata-benchmarking/tmd/storage/output\"\n",
    ")"
   ]
  },
  {
   "cell_type": "markdown",
   "metadata": {},
   "source": [
    "## 2. Run Tax-Calculator analysis"
   ]
  },
  {
   "cell_type": "markdown",
   "metadata": {},
   "source": [
    "### 2.1. Setup baseline calculator"
   ]
  },
  {
   "cell_type": "code",
   "execution_count": 4,
   "metadata": {},
   "outputs": [
    {
     "name": "stdout",
     "output_type": "stream",
     "text": [
      "taxcalc TMD start year is: 2021\n"
     ]
    }
   ],
   "source": [
    "# Set up the baseline calculator\n",
    "base_pol = tc.policy.Policy()\n",
    "base_pol_dict = base_pol.read_json_reform(os.path.join(json_dir, \"ext.json\"))\n",
    "base_pol.implement_reform(base_pol_dict)\n",
    "gfactors=tc.growfactors.GrowFactors(\n",
    "    growfactors_filename=os.path.join(tmd_dir, \"tmd_growfactors_jason.csv\")\n",
    ")\n",
    "# rec = tc.records.Records.cps_constructor()\n",
    "rec = tc.records.Records(\n",
    "    data=os.path.join(tmd_dir, \"tmd_jason.csv.gz\"),\n",
    "    start_year=tc.records.Records.TMDCSV_YEAR,\n",
    "    gfactors=gfactors,\n",
    "    weights=os.path.join(tmd_dir, \"tmd_weights_jason.csv.gz\"),\n",
    "    adjust_ratios=None,\n",
    ")\n",
    "tc_base = tc.calculator.Calculator(policy=base_pol, records=rec)\n",
    "print(\"taxcalc TMD start year is:\", tc.records.Records.TMDCSV_YEAR)\n"
   ]
  },
  {
   "cell_type": "markdown",
   "metadata": {},
   "source": [
    "### 2.2. Setup reform calculator"
   ]
  },
  {
   "cell_type": "code",
   "execution_count": 5,
   "metadata": {},
   "outputs": [],
   "source": [
    "ref_pol = tc.policy.Policy()\n",
    "ref_pol.implement_reform(base_pol_dict)\n",
    "ref_pol_dict = base_pol.read_json_reform(os.path.join(json_dir, \"chddct.json\"))\n",
    "ref_pol.implement_reform(ref_pol_dict)\n",
    "tc_ref = tc.calculator.Calculator(policy=ref_pol, records=rec)"
   ]
  },
  {
   "cell_type": "markdown",
   "metadata": {},
   "source": [
    "### 2.3. Create the revenue estimates for 10-year budget window"
   ]
  },
  {
   "cell_type": "code",
   "execution_count": 6,
   "metadata": {},
   "outputs": [],
   "source": [
    "# Compute annual revenue for each year in a 10-year budget window\n",
    "# Do this for baseline and reforms\n",
    "start_year = 2025\n",
    "end_year = 2034\n",
    "\n",
    "rev_base = {'IIT': {}, 'Payroll': {}, 'Sum': {}}\n",
    "rev_ref = {'IIT': {}, 'Payroll': {}, 'Sum': {}}\n",
    "for t in range(start_year, end_year+1):\n",
    "    tc_base.advance_to_year(t)\n",
    "    tc_base.calc_all()\n",
    "    rev_base['IIT'][t] = tc_base.weighted_total('iitax')\n",
    "    rev_base['Payroll'][t] = tc_base.weighted_total('payrolltax')\n",
    "    rev_base['Sum'][t] = rev_base['IIT'][t] + rev_base['Payroll'][t]\n",
    "    tc_ref.advance_to_year(t)\n",
    "    tc_ref.calc_all()\n",
    "    rev_ref['IIT'][t] = tc_ref.weighted_total('iitax')\n",
    "    rev_ref['Payroll'][t] = tc_ref.weighted_total('payrolltax')\n",
    "    rev_ref['Sum'][t] = rev_ref['IIT'][t] + rev_ref['Payroll'][t]"
   ]
  },
  {
   "cell_type": "markdown",
   "metadata": {},
   "source": [
    "### 2.4. Create a table of output"
   ]
  },
  {
   "cell_type": "code",
   "execution_count": 7,
   "metadata": {},
   "outputs": [
    {
     "name": "stdout",
     "output_type": "stream",
     "text": [
      "Charitable Act revenue estimates\n",
      "             2025      2026      2027      2028      2029      2030      2031  \\\n",
      "IIT     $2580.483 $2696.091 $2811.543 $2933.517 $3065.789 $3203.963 $3348.031   \n",
      "Payroll $1706.931 $1785.590 $1859.037 $1930.053 $2003.975 $2080.308 $2158.496   \n",
      "Sum     $4287.415 $4481.680 $4670.579 $4863.570 $5069.763 $5284.271 $5506.526   \n",
      "\n",
      "             2032      2033      2034  2025-2034  \n",
      "IIT     $3497.398 $3649.704 $3805.891 $31592.409  \n",
      "Payroll $2237.907 $2318.438 $2400.162 $20480.896  \n",
      "Sum     $5735.305 $5968.141 $6206.053 $52073.305  \n",
      "             2025      2026      2027      2028      2029      2030      2031  \\\n",
      "IIT     $2577.064 $2692.613 $2808.020 $2929.959 $3062.194 $3200.329 $3344.358   \n",
      "Payroll $1706.931 $1785.590 $1859.037 $1930.053 $2003.975 $2080.308 $2158.496   \n",
      "Sum     $4283.995 $4478.202 $4667.057 $4860.012 $5066.168 $5280.637 $5502.854   \n",
      "\n",
      "             2032      2033      2034  \n",
      "IIT     $3493.691 $3645.960 $3802.116  \n",
      "Payroll $2237.907 $2318.438 $2400.162  \n",
      "Sum     $5731.598 $5964.397 $6202.277  \n",
      "|         |     2025 |     2026 |     2027 |     2028 |     2029 |     2030 |     2031 |     2032 |     2033 |     2034 |   2025-2034 |\n",
      "|:--------|---------:|---------:|---------:|---------:|---------:|---------:|---------:|---------:|---------:|---------:|------------:|\n",
      "| IIT     | -3.41974 | -3.47768 | -3.52266 | -3.55798 | -3.59508 | -3.63407 | -3.67211 | -3.70742 | -3.74388 | -3.77529 |    -36.1059 |\n",
      "| Payroll |  0       |  0       |  0       |  0       |  0       |  0       |  0       |  0       |  0       |  0       |      0      |\n",
      "| Sum     | -3.41974 | -3.47768 | -3.52266 | -3.55798 | -3.59508 | -3.63407 | -3.67211 | -3.70742 | -3.74388 | -3.77529 |    -36.1059 |\n"
     ]
    }
   ],
   "source": [
    "# make table of revenue estimates\n",
    "rev_base_df = pd.DataFrame.from_dict(rev_base).T\n",
    "rev_base_df['2025-2034'] = rev_base_df.sum(axis=1)\n",
    "rev_ref_df = pd.DataFrame.from_dict(rev_ref).T\n",
    "# rev_ref_df['2025-2034'] = rev_ref_df.sum(axis=1)\n",
    "diff_df = (rev_ref_df - rev_base_df) * 1e-9\n",
    "pd.options.display.float_format = '${:.3f}'.format\n",
    "diff_df['2025-2034'] = diff_df.sum(axis=1)\n",
    "print('Charitable Act revenue estimates')\n",
    "print(rev_base_df * 1e-9)\n",
    "print(rev_ref_df * 1e-9)\n",
    "print(diff_df.to_markdown())"
   ]
  },
  {
   "cell_type": "markdown",
   "metadata": {},
   "source": [
    "## 3. Do the current Charitable Act $10,000/$5,000 for 2026 and 2027"
   ]
  },
  {
   "cell_type": "markdown",
   "metadata": {},
   "source": [
    "### 3.1. Setup baseline calculator (same as previous)"
   ]
  },
  {
   "cell_type": "markdown",
   "metadata": {},
   "source": [
    "### 3.2. Set up a reform calculator with the new policy"
   ]
  },
  {
   "cell_type": "code",
   "execution_count": 8,
   "metadata": {},
   "outputs": [],
   "source": [
    "ref_pol_2 = tc.policy.Policy()\n",
    "ref_pol_2.implement_reform(base_pol_dict)\n",
    "ref_pol_2_dict = base_pol.read_json_reform(os.path.join(json_dir, \"chddct2.json\"))\n",
    "ref_pol_2.implement_reform(ref_pol_2_dict)\n",
    "tc_ref_2 = tc.calculator.Calculator(policy=ref_pol_2, records=rec)"
   ]
  },
  {
   "cell_type": "markdown",
   "metadata": {},
   "source": [
    "### 3.3. Create the revenue estimates for 10-year budget window"
   ]
  },
  {
   "cell_type": "code",
   "execution_count": 9,
   "metadata": {},
   "outputs": [],
   "source": [
    "# Compute annual revenue for each year in a 10-year budget window\n",
    "# Do this for baseline and reforms\n",
    "# rev_base = {'IIT': {}, 'Payroll': {}, 'Sum': {}}\n",
    "rev_ref_2 = {'IIT': {}, 'Payroll': {}, 'Sum': {}}\n",
    "for t in range(start_year, end_year+1):\n",
    "    tc_ref_2.advance_to_year(t)\n",
    "    tc_ref_2.calc_all()\n",
    "    rev_ref_2['IIT'][t] = tc_ref_2.weighted_total('iitax')\n",
    "    rev_ref_2['Payroll'][t] = tc_ref_2.weighted_total('payrolltax')\n",
    "    rev_ref_2['Sum'][t] = rev_ref_2['IIT'][t] + rev_ref_2['Payroll'][t]"
   ]
  },
  {
   "cell_type": "markdown",
   "metadata": {},
   "source": [
    "### 3.4. Create a table of output"
   ]
  },
  {
   "cell_type": "code",
   "execution_count": null,
   "metadata": {},
   "outputs": [
    {
     "name": "stdout",
     "output_type": "stream",
     "text": [
      "Charitable Act revenue estimates\n",
      "             2025      2026      2027      2028      2029      2030      2031  \\\n",
      "IIT     $2580.483 $2696.091 $2811.543 $2933.517 $3065.789 $3203.963 $3348.031   \n",
      "Payroll $1706.931 $1785.590 $1859.037 $1930.053 $2003.975 $2080.308 $2158.496   \n",
      "Sum     $4287.415 $4481.680 $4670.579 $4863.570 $5069.763 $5284.271 $5506.526   \n",
      "\n",
      "             2032      2033      2034  2025-2034  \n",
      "IIT     $3497.398 $3649.704 $3805.891 $31592.409  \n",
      "Payroll $2237.907 $2318.438 $2400.162 $20480.896  \n",
      "Sum     $5735.305 $5968.141 $6206.053 $52073.305  \n",
      "             2025      2026      2027      2028      2029      2030      2031  \\\n",
      "IIT     $2580.483 $2680.299 $2795.304 $2933.517 $3065.789 $3203.963 $3348.031   \n",
      "Payroll $1706.931 $1785.590 $1859.037 $1930.053 $2003.975 $2080.308 $2158.496   \n",
      "Sum     $4287.415 $4465.888 $4654.341 $4863.570 $5069.763 $5284.271 $5506.526   \n",
      "\n",
      "             2032      2033      2034  \n",
      "IIT     $3497.398 $3649.704 $3805.891  \n",
      "Payroll $2237.907 $2318.438 $2400.162  \n",
      "Sum     $5735.305 $5968.141 $6206.053  \n",
      "|         |   2025 |     2026 |     2027 |   2028 |   2029 |   2030 |   2031 |   2032 |   2033 |   2034 |   2025-2034 |\n",
      "|:--------|-------:|---------:|---------:|-------:|-------:|-------:|-------:|-------:|-------:|-------:|------------:|\n",
      "| IIT     |      0 | -15.7917 | -16.2382 |      0 |      0 |      0 |      0 |      0 |      0 |      0 |      -32.03 |\n",
      "| Payroll |      0 |   0      |   0      |      0 |      0 |      0 |      0 |      0 |      0 |      0 |        0    |\n",
      "| Sum     |      0 | -15.7917 | -16.2382 |      0 |      0 |      0 |      0 |      0 |      0 |      0 |      -32.03 |\n"
     ]
    }
   ],
   "source": [
    "# make table of revenue estimates\n",
    "rev_ref_2_df = pd.DataFrame.from_dict(rev_ref_2).T\n",
    "# rev_ref_df['2025-2034'] = rev_ref_df.sum(axis=1)\n",
    "diff_2_df = (rev_ref_2_df - rev_base_df) * 1e-9\n",
    "pd.options.display.float_format = '${:.3f}'.format\n",
    "diff_2_df['2025-2034'] = diff_2_df.sum(axis=1)\n",
    "print('Charitable Act revenue estimates')\n",
    "print(rev_base_df * 1e-9)\n",
    "print(rev_ref_2_df * 1e-9)\n",
    "print(diff_2_df.to_markdown())"
   ]
  },
  {
   "cell_type": "code",
   "execution_count": 13,
   "metadata": {},
   "outputs": [
    {
     "data": {
      "text/plain": [
       "IIT       $31560.379\n",
       "Payroll   $20480.896\n",
       "Sum       $52041.275\n",
       "dtype: float64"
      ]
     },
     "execution_count": 13,
     "metadata": {},
     "output_type": "execute_result"
    }
   ],
   "source": [
    "rev_ref_2_df.sum(axis=1) * 1e-9"
   ]
  },
  {
   "cell_type": "code",
   "execution_count": null,
   "metadata": {},
   "outputs": [],
   "source": []
  }
 ],
 "metadata": {
  "kernelspec": {
   "display_name": "char-contr-dev",
   "language": "python",
   "name": "python3"
  },
  "language_info": {
   "codemirror_mode": {
    "name": "ipython",
    "version": 3
   },
   "file_extension": ".py",
   "mimetype": "text/x-python",
   "name": "python",
   "nbconvert_exporter": "python",
   "pygments_lexer": "ipython3",
   "version": "3.12.9"
  }
 },
 "nbformat": 4,
 "nbformat_minor": 2
}
